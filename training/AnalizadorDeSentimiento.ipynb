{
  "nbformat": 4,
  "nbformat_minor": 0,
  "metadata": {
    "colab": {
      "provenance": []
    },
    "kernelspec": {
      "name": "python3",
      "display_name": "Python 3"
    },
    "language_info": {
      "name": "python"
    }
  },
  "cells": [
    {
      "cell_type": "markdown",
      "source": [
        "# Analizador de sentimiento\n",
        "\n",
        "Descripción:\n",
        "- Importar librerías y descargar recursos: Se importan las librerías necesarias y se descarga el lexicón de VADER para el análisis de sentimientos.\n",
        "- Cargar y limpiar datos: Se carga el dataset y se filtran las sinopsis para eliminar las que no contienen información útil.\n",
        "- Preprocesamiento del texto: Se aplica una función de preprocesamiento a las sinopsis para dejar solo palabras alfabéticas en minúsculas.\n",
        "- Análisis de sentimientos: Se utiliza VADER para determinar el sentimiento de cada sinopsis y se clasifica como 'feliz', 'triste' o 'neutral'.\n",
        "-Vectorización con TF-IDF: Se transforman las sinopsis en representaciones TF-IDF.\n",
        "- Modelo KNN: Se entrena un modelo KNN para encontrar animes similares.\n",
        "- Guardar y cargar modelos: Se guardan el modelo KNN y el vectorizador TF-IDF, y luego se cargan para su uso posterior.\n",
        "- Recomendación de animes: Se define una función para recomendar animes basados en el estado de ánimo proporcionado, utilizando el modelo KNN entrenado."
      ],
      "metadata": {
        "id": "zcHYtoeUNEBU"
      }
    },
    {
      "cell_type": "markdown",
      "source": [
        "## Librerías"
      ],
      "metadata": {
        "id": "1U_Mk-TiNBjT"
      }
    },
    {
      "cell_type": "code",
      "source": [
        "import pandas as pd\n",
        "import re\n",
        "from nltk.sentiment.vader import SentimentIntensityAnalyzer\n",
        "from sklearn.feature_extraction.text import TfidfVectorizer\n",
        "from sklearn.neighbors import NearestNeighbors\n",
        "import joblib\n",
        "import nltk"
      ],
      "metadata": {
        "id": "C0ExaG67M8SE"
      },
      "execution_count": 4,
      "outputs": []
    },
    {
      "cell_type": "markdown",
      "source": [
        "## Preparación de los datos y bel entrenamiento del modelo"
      ],
      "metadata": {
        "id": "CpmckEn-dB1d"
      }
    },
    {
      "cell_type": "code",
      "execution_count": 6,
      "metadata": {
        "colab": {
          "base_uri": "https://localhost:8080/"
        },
        "id": "0kx-Jj_-mlfg",
        "outputId": "bfacef6c-1342-49f4-8be4-721f35bed113"
      },
      "outputs": [
        {
          "output_type": "stream",
          "name": "stderr",
          "text": [
            "[nltk_data] Downloading package vader_lexicon to /root/nltk_data...\n"
          ]
        }
      ],
      "source": [
        "# Descargar los recursos necesarios para VADER\n",
        "nltk.download('vader_lexicon')\n",
        "\n",
        "# Cargar el dataset\n",
        "df = pd.read_csv(\"/content/drive/MyDrive/dataset/tfm/scraping_animeList.csv\")\n",
        "\n",
        "# Filtrar sinopsis con información y eliminar filas con sinopsis nulos\n",
        "df = df.dropna(subset=['Synopsis'])\n",
        "df = df[~df['Synopsis'].str.contains('No synopsis information')]\n",
        "\n",
        "\"\"\"\n",
        "  Limpiar el texto de la sinopsis dejando solo palabras alfabéticas\n",
        "  y convirtiendo todo el texto a minúsculas.\n",
        "\"\"\"\n",
        "def preprocess_text(text):\n",
        "    text = ' '.join(re.findall(r'\\b[a-zA-Z]+\\b', str(text)))\n",
        "    text = re.sub(r'\\s+', ' ', text).strip()\n",
        "    return text.lower()\n",
        "\n",
        "# Aplicar preprocesamiento al texto de las sinopsis\n",
        "df['Synopsis'] = df['Synopsis'].apply(preprocess_text)\n",
        "\n",
        "# Análisis de sentimientos con VADER\n",
        "sid = SentimentIntensityAnalyzer()\n",
        "\n",
        "\"\"\"\n",
        "  Determinar el sentimiento del texto usando VADER y Clasificarlo\n",
        "  como 'feliz', 'triste' o 'neutral' basado en el puntaje compuesto.\n",
        "\"\"\"\n",
        "def obtener_animo(text):\n",
        "    scores = sid.polarity_scores(text)\n",
        "    if scores['compound'] >= 0.5:\n",
        "        return 'feliz'\n",
        "    elif scores['compound'] <= -0.5:\n",
        "        return 'triste'\n",
        "    else:\n",
        "        return 'neutral'\n",
        "\n",
        "# Aplicar análisis de sentimientos a las sinopsis\n",
        "df['Animo'] = df['Synopsis'].apply(obtener_animo)\n",
        "\n",
        "# Vectorizador TF-IDF\n",
        "vectorizer = TfidfVectorizer(stop_words='english', max_df=0.8, min_df=0.001)\n",
        "\n",
        "# Transformar sinopsis a representaciones TF-IDF\n",
        "X_tfidf = vectorizer.fit_transform(df['Synopsis'])\n",
        "\n",
        "# Modelo KNN\n",
        "modelo_knn = NearestNeighbors(n_neighbors=5, metric='cosine').fit(X_tfidf)\n",
        "\n",
        "# Guardar el modelo y el vectorizador\n",
        "joblib.dump(modelo_knn, '/content/drive/MyDrive/dataset/tfm/modelo_knn_animo.pkl')\n",
        "joblib.dump(vectorizer, '/content/drive/MyDrive/dataset/tfm/vectorizer_animo.pkl')\n",
        "\n",
        "# Guardar el DataFrame con la columna 'Animo'\n",
        "df.to_csv('/content/drive/MyDrive/dataset/tfm/scraping_animeList_with_animo.csv', index=False)"
      ]
    },
    {
      "cell_type": "markdown",
      "source": [
        "## Ejemplo de uso"
      ],
      "metadata": {
        "id": "V-PsWWhWOTIW"
      }
    },
    {
      "cell_type": "code",
      "source": [
        "# Cargar los modelos guardados\n",
        "modelo_knn = joblib.load('/content/drive/MyDrive/dataset/tfm/modelo_knn_animo.pkl')\n",
        "vectorizer = joblib.load('/content/drive/MyDrive/dataset/tfm/vectorizer_animo.pkl')\n",
        "\n",
        "\"\"\"\n",
        "  Recomiendar animes basados en el estado de ánimo proporcionado.\n",
        "  Se selecciona un anime aleatorio del estado de ánimo dado y se encuentran\n",
        "  los animes más similares usando KNN.\n",
        "\"\"\"\n",
        "def recomendar_animes(estado):\n",
        "    animes = df[df['Animo'] == estado]\n",
        "    if animes.empty:\n",
        "        return []\n",
        "\n",
        "    random_anime = animes.sample(1)\n",
        "    anime_index = random_anime.index[0]\n",
        "\n",
        "    X_tfidf_anime = vectorizer.transform([df['Synopsis'][anime_index]])\n",
        "    distances, indices = modelo_knn.kneighbors(X_tfidf_anime)\n",
        "\n",
        "    recomendados = df.iloc[indices[0]]['Title'].values\n",
        "    return recomendados\n",
        "\n",
        "# Comprobar recomendaciones para \"feliz\" o \"triste\" o \"neutral\"\n",
        "print(recomendar_animes('neutral'))\n"
      ],
      "metadata": {
        "colab": {
          "base_uri": "https://localhost:8080/"
        },
        "id": "qIL6J781n9Dx",
        "outputId": "3ca330d4-0edd-46ba-8d88-5a94ae67f544"
      },
      "execution_count": 7,
      "outputs": [
        {
          "output_type": "stream",
          "name": "stdout",
          "text": [
            "['YouTuNya' 'Himawari Girls Mini Anime' 'Magic Door'\n",
            " 'OTMGirls no Yokiyoki Channel'\n",
            " 'Hataraku Saibou: Necchuushou - Moshimo Pocari Sweat ga Attara']\n"
          ]
        }
      ]
    }
  ]
}