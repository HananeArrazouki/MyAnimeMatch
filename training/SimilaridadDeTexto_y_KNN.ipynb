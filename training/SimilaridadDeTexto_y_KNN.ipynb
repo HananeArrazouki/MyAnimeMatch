{
  "cells": [
    {
      "cell_type": "markdown",
      "metadata": {
        "id": "3dTTN9KJlAwO"
      },
      "source": [
        "# Recomendación de Animes basado en Similaridad de Texto y KNN\n",
        "\n",
        "Este Colab implementa un sistema de recomendación de animes utilizando técnicas de preprocesamiento de texto, codificación de variables categóricas, y un modelo de vecinos más cercanos (KNN) para encontrar animes similares. El proceso completo incluye la carga y limpieza de datos, la transformación de características, y la construcción del modelo de recomendación."
      ]
    },
    {
      "cell_type": "markdown",
      "metadata": {
        "id": "1JclnIBnlLF9"
      },
      "source": [
        "## Importación de Librerías"
      ]
    },
    {
      "cell_type": "code",
      "execution_count": 1,
      "metadata": {
        "id": "L0t17W9M9rnM"
      },
      "outputs": [],
      "source": [
        "import pandas as pd\n",
        "from sklearn.preprocessing import LabelEncoder\n",
        "import re\n",
        "from sklearn.feature_extraction.text import TfidfVectorizer\n",
        "from sklearn.preprocessing import MinMaxScaler\n",
        "import numpy as np\n",
        "from sklearn.neighbors import NearestNeighbors\n",
        "import random\n",
        "import joblib"
      ]
    },
    {
      "cell_type": "markdown",
      "metadata": {
        "id": "wRkitT9vlUye"
      },
      "source": [
        "## Carga de Datos:\n",
        "\n",
        "Se carga un archivo CSV que contiene los datos de los animes."
      ]
    },
    {
      "cell_type": "code",
      "execution_count": null,
      "metadata": {
        "colab": {
          "base_uri": "https://localhost:8080/"
        },
        "id": "vh7KwZWHtCzd",
        "outputId": "e03c8025-44e7-4add-ed1a-3f8475582824"
      },
      "outputs": [
        {
          "name": "stdout",
          "output_type": "stream",
          "text": [
            "Mounted at /content/drive\n"
          ]
        }
      ],
      "source": [
        "from google.colab import drive\n",
        "drive.mount('/content/drive')"
      ]
    },
    {
      "cell_type": "code",
      "execution_count": null,
      "metadata": {
        "id": "sdRyK8pZ92MV"
      },
      "outputs": [],
      "source": [
        "df = pd.read_csv('/content/drive/MyDrive/dataset/tfm/scraping_animeList.csv')"
      ]
    },
    {
      "cell_type": "markdown",
      "metadata": {
        "id": "H2wIgxyQldYQ"
      },
      "source": [
        "## Exploración y Limpieza de Datos:\n",
        "\n",
        "- Se verifican las dimensiones del DataFrame y se observan los primeros registros.\n",
        "- Se identifican las columnas con valores faltantes y se eliminan aquellas con muchos valores faltantes y posibles errores.\n",
        "- Se eliminan filas con valores faltantes restantes."
      ]
    },
    {
      "cell_type": "code",
      "execution_count": null,
      "metadata": {
        "colab": {
          "base_uri": "https://localhost:8080/"
        },
        "id": "WHPlWFvO_qjr",
        "outputId": "c5eaa98f-ddbe-4184-c3f1-e5afa97636b4"
      },
      "outputs": [
        {
          "data": {
            "text/plain": [
              "(12598, 20)"
            ]
          },
          "execution_count": 44,
          "metadata": {},
          "output_type": "execute_result"
        }
      ],
      "source": [
        "# Total de filas y columnas\n",
        "df.shape"
      ]
    },
    {
      "cell_type": "code",
      "execution_count": null,
      "metadata": {
        "colab": {
          "base_uri": "https://localhost:8080/",
          "height": 556
        },
        "id": "8HzbaQGQ9-mx",
        "outputId": "768da0a6-9bab-4502-c7b6-55754d10501f"
      },
      "outputs": [
        {
          "data": {
            "application/vnd.google.colaboratory.intrinsic+json": {
              "summary": "{\n  \"name\": \"df\",\n  \"rows\": 12598,\n  \"fields\": [\n    {\n      \"column\": \"ID\",\n      \"properties\": {\n        \"dtype\": \"number\",\n        \"std\": 16831,\n        \"min\": 1,\n        \"max\": 57024,\n        \"num_unique_values\": 12598,\n        \"samples\": [\n          18819,\n          940,\n          3581\n        ],\n        \"semantic_type\": \"\",\n        \"description\": \"\"\n      }\n    },\n    {\n      \"column\": \"Title\",\n      \"properties\": {\n        \"dtype\": \"string\",\n        \"num_unique_values\": 12598,\n        \"samples\": [\n          \"Alice Tantei Kyoku\",\n          \"Inukami!\",\n          \"Requiem\"\n        ],\n        \"semantic_type\": \"\",\n        \"description\": \"\"\n      }\n    },\n    {\n      \"column\": \"Type\",\n      \"properties\": {\n        \"dtype\": \"category\",\n        \"num_unique_values\": 6,\n        \"samples\": [\n          \"TV\",\n          \"Movie\",\n          \"ONA\"\n        ],\n        \"semantic_type\": \"\",\n        \"description\": \"\"\n      }\n    },\n    {\n      \"column\": \"Episodes\",\n      \"properties\": {\n        \"dtype\": \"number\",\n        \"std\": 55.29694760402371,\n        \"min\": 1.0,\n        \"max\": 3057.0,\n        \"num_unique_values\": 210,\n        \"samples\": [\n          44.0,\n          312.0,\n          19.0\n        ],\n        \"semantic_type\": \"\",\n        \"description\": \"\"\n      }\n    },\n    {\n      \"column\": \"Source\",\n      \"properties\": {\n        \"dtype\": \"category\",\n        \"num_unique_values\": 17,\n        \"samples\": [\n          \"Original\",\n          \"Manga\",\n          \"4-koma manga\"\n        ],\n        \"semantic_type\": \"\",\n        \"description\": \"\"\n      }\n    },\n    {\n      \"column\": \"Studios\",\n      \"properties\": {\n        \"dtype\": \"category\",\n        \"num_unique_values\": 1107,\n        \"samples\": [\n          \"Bones, Production Reed, The Answer Studio, WAO World\",\n          \"asread., Tear Studio\",\n          \"I-move\"\n        ],\n        \"semantic_type\": \"\",\n        \"description\": \"\"\n      }\n    },\n    {\n      \"column\": \"Demographic\",\n      \"properties\": {\n        \"dtype\": \"category\",\n        \"num_unique_values\": 5,\n        \"samples\": [\n          \"Josei\",\n          \"Kids\",\n          \"Seinen\"\n        ],\n        \"semantic_type\": \"\",\n        \"description\": \"\"\n      }\n    },\n    {\n      \"column\": \"Year\",\n      \"properties\": {\n        \"dtype\": \"number\",\n        \"std\": 12,\n        \"min\": 1917,\n        \"max\": 2024,\n        \"num_unique_values\": 91,\n        \"samples\": [\n          1974,\n          1973,\n          1932\n        ],\n        \"semantic_type\": \"\",\n        \"description\": \"\"\n      }\n    },\n    {\n      \"column\": \"Producers\",\n      \"properties\": {\n        \"dtype\": \"category\",\n        \"num_unique_values\": 3246,\n        \"samples\": [\n          \"Warner Bros. Japan, KlockWorx, Showgate, Hakuhodo DY Music & Pictures\",\n          \"Geneon Universal Entertainment, Movic, Bushiroad, Showgate, Tokyo MX, i0+, Fujimi Shobo\",\n          \"Imagi, Toshiba Entertainment\"\n        ],\n        \"semantic_type\": \"\",\n        \"description\": \"\"\n      }\n    },\n    {\n      \"column\": \"Genres\",\n      \"properties\": {\n        \"dtype\": \"category\",\n        \"num_unique_values\": 833,\n        \"samples\": [\n          \"Action, Drama, Mystery, Romance, Sci-Fi\",\n          \"Action, Adventure, Drama, Fantasy, Mystery\",\n          \"Comedy, Sports\"\n        ],\n        \"semantic_type\": \"\",\n        \"description\": \"\"\n      }\n    },\n    {\n      \"column\": \"Licensors\",\n      \"properties\": {\n        \"dtype\": \"category\",\n        \"num_unique_values\": 250,\n        \"samples\": [\n          \"ADV Films, Discotek Media, Streamline Pictures\",\n          \"VIZ Media\",\n          \"Discotek Media, Saban Entertainment, Flatiron Film Company\"\n        ],\n        \"semantic_type\": \"\",\n        \"description\": \"\"\n      }\n    },\n    {\n      \"column\": \"Duration\",\n      \"properties\": {\n        \"dtype\": \"number\",\n        \"std\": 13,\n        \"min\": 1,\n        \"max\": 59,\n        \"num_unique_values\": 59,\n        \"samples\": [\n          24,\n          22,\n          50\n        ],\n        \"semantic_type\": \"\",\n        \"description\": \"\"\n      }\n    },\n    {\n      \"column\": \"Rating\",\n      \"properties\": {\n        \"dtype\": \"category\",\n        \"num_unique_values\": 6,\n        \"samples\": [\n          \"R - 17+ (violence & profanity)\",\n          \"PG-13 - Teens 13 or older\",\n          \"Rx - Hentai\"\n        ],\n        \"semantic_type\": \"\",\n        \"description\": \"\"\n      }\n    },\n    {\n      \"column\": \"Score\",\n      \"properties\": {\n        \"dtype\": \"number\",\n        \"std\": 2.0159747839232462,\n        \"min\": 1.0,\n        \"max\": 9.0,\n        \"num_unique_values\": 9,\n        \"samples\": [\n          3.0,\n          7.0,\n          2.0\n        ],\n        \"semantic_type\": \"\",\n        \"description\": \"\"\n      }\n    },\n    {\n      \"column\": \"Ranked\",\n      \"properties\": {\n        \"dtype\": \"number\",\n        \"std\": 5206.770310853079,\n        \"min\": 0.0,\n        \"max\": 20646.0,\n        \"num_unique_values\": 8176,\n        \"samples\": [\n          14361.0,\n          11523.0,\n          3842.0\n        ],\n        \"semantic_type\": \"\",\n        \"description\": \"\"\n      }\n    },\n    {\n      \"column\": \"Popularity\",\n      \"properties\": {\n        \"dtype\": \"number\",\n        \"std\": 6280,\n        \"min\": 0,\n        \"max\": 26496,\n        \"num_unique_values\": 10623,\n        \"samples\": [\n          7627,\n          7365,\n          9197\n        ],\n        \"semantic_type\": \"\",\n        \"description\": \"\"\n      }\n    },\n    {\n      \"column\": \"Members\",\n      \"properties\": {\n        \"dtype\": \"string\",\n        \"num_unique_values\": 8554,\n        \"samples\": [\n          \"9,927\",\n          \"7,749\",\n          \"1,021\"\n        ],\n        \"semantic_type\": \"\",\n        \"description\": \"\"\n      }\n    },\n    {\n      \"column\": \"Favorites\",\n      \"properties\": {\n        \"dtype\": \"category\",\n        \"num_unique_values\": 1433,\n        \"samples\": [\n          \"281\",\n          \"1,982\",\n          \"1,240\"\n        ],\n        \"semantic_type\": \"\",\n        \"description\": \"\"\n      }\n    },\n    {\n      \"column\": \"Image_URL\",\n      \"properties\": {\n        \"dtype\": \"string\",\n        \"num_unique_values\": 12574,\n        \"samples\": [\n          \"https://cdn.myanimelist.net/images/anime/8/85605.jpg\",\n          \"https://cdn.myanimelist.net/images/anime/1856/96472.jpg\",\n          \"https://cdn.myanimelist.net/images/anime/4/79468.jpg\"\n        ],\n        \"semantic_type\": \"\",\n        \"description\": \"\"\n      }\n    },\n    {\n      \"column\": \"Synopsis\",\n      \"properties\": {\n        \"dtype\": \"string\",\n        \"num_unique_values\": 11759,\n        \"samples\": [\n          \"Akira Kiyose, a high schooler who loves to sing, gets recruited by a talent agency called sMiLea Production. Akira learns that the legendary idols \\\"Anela,\\\" who shocked the world with their sudden retirement, are behind the agency developing talent. Together with Banri Naoe and Chihiro Isuzugawa, also recruited by the agency, they form an idol group as they chase their dream towards super stardom alongside other idol groups \\\"LEGIT\\\" and \\\"JAXX/JAXX.\\\"(Source: Aniplex USA, edited)\",\n          \"It is said that consuming the flesh of a mermaid confers immortality. This certainly proved to be the case for the 500-year-old Yuta and his friend Mana.  However, most people who try to become immortal either die or transform into monsters.Fifty-five  years ago, Towa Kannagi was given mermaid blood by her sister, Sawa, in order to cure a fatal illness. Now, Towa maintains her youthful appearance, save her white hair and beastly arm. For years she has dreamed of restoring her body, resorting to blood transfusions from youthful corpses aided by the local doctor, Shiina.Mana, mistaken for dead by Shiina, is brought in to have her blood used by Towa. When she discovers that Mana is alive, what lengths will Towa go to in order to restore herself? Will Yuta be able to save Mana in time?[Written by MAL Rewrite]\",\n          \"The first OVA, Burning Clock, tells the story of the Aiba family, goes into further detail about Shinya and Takaya's rivalry.\"\n        ],\n        \"semantic_type\": \"\",\n        \"description\": \"\"\n      }\n    }\n  ]\n}",
              "type": "dataframe",
              "variable_name": "df"
            },
            "text/html": [
              "\n",
              "  <div id=\"df-60f00c24-5d1a-40a0-bc82-5d6c3a45cc47\" class=\"colab-df-container\">\n",
              "    <div>\n",
              "<style scoped>\n",
              "    .dataframe tbody tr th:only-of-type {\n",
              "        vertical-align: middle;\n",
              "    }\n",
              "\n",
              "    .dataframe tbody tr th {\n",
              "        vertical-align: top;\n",
              "    }\n",
              "\n",
              "    .dataframe thead th {\n",
              "        text-align: right;\n",
              "    }\n",
              "</style>\n",
              "<table border=\"1\" class=\"dataframe\">\n",
              "  <thead>\n",
              "    <tr style=\"text-align: right;\">\n",
              "      <th></th>\n",
              "      <th>ID</th>\n",
              "      <th>Title</th>\n",
              "      <th>Type</th>\n",
              "      <th>Episodes</th>\n",
              "      <th>Source</th>\n",
              "      <th>Studios</th>\n",
              "      <th>Demographic</th>\n",
              "      <th>Year</th>\n",
              "      <th>Producers</th>\n",
              "      <th>Genres</th>\n",
              "      <th>Licensors</th>\n",
              "      <th>Duration</th>\n",
              "      <th>Rating</th>\n",
              "      <th>Score</th>\n",
              "      <th>Ranked</th>\n",
              "      <th>Popularity</th>\n",
              "      <th>Members</th>\n",
              "      <th>Favorites</th>\n",
              "      <th>Image_URL</th>\n",
              "      <th>Synopsis</th>\n",
              "    </tr>\n",
              "  </thead>\n",
              "  <tbody>\n",
              "    <tr>\n",
              "      <th>0</th>\n",
              "      <td>1</td>\n",
              "      <td>Cowboy Bebop</td>\n",
              "      <td>TV</td>\n",
              "      <td>26.0</td>\n",
              "      <td>Original</td>\n",
              "      <td>Sunrise</td>\n",
              "      <td>NaN</td>\n",
              "      <td>1998</td>\n",
              "      <td>Bandai Visual</td>\n",
              "      <td>Action, Award Winning, Sci-Fi</td>\n",
              "      <td>Funimation</td>\n",
              "      <td>24</td>\n",
              "      <td>R - 17+ (violence &amp; profanity)</td>\n",
              "      <td>8.0</td>\n",
              "      <td>46.0</td>\n",
              "      <td>43</td>\n",
              "      <td>1,864,022</td>\n",
              "      <td>82,369</td>\n",
              "      <td>https://cdn.myanimelist.net/images/anime/4/196...</td>\n",
              "      <td>Crime is timeless. By the year 2071, humanity ...</td>\n",
              "    </tr>\n",
              "    <tr>\n",
              "      <th>1</th>\n",
              "      <td>5</td>\n",
              "      <td>Cowboy Bebop: Tengoku no Tobira</td>\n",
              "      <td>Movie</td>\n",
              "      <td>1.0</td>\n",
              "      <td>Original</td>\n",
              "      <td>Bones</td>\n",
              "      <td>NaN</td>\n",
              "      <td>2001</td>\n",
              "      <td>Sunrise, Bandai Visual</td>\n",
              "      <td>Action, Sci-Fi</td>\n",
              "      <td>Sony Pictures Entertainment, Funimation</td>\n",
              "      <td>1</td>\n",
              "      <td>R - 17+ (violence &amp; profanity)</td>\n",
              "      <td>8.0</td>\n",
              "      <td>193.0</td>\n",
              "      <td>619</td>\n",
              "      <td>377,963</td>\n",
              "      <td>1,581</td>\n",
              "      <td>https://cdn.myanimelist.net/images/anime/1439/...</td>\n",
              "      <td>Another day, another bounty—such is the life o...</td>\n",
              "    </tr>\n",
              "    <tr>\n",
              "      <th>2</th>\n",
              "      <td>6</td>\n",
              "      <td>Trigun</td>\n",
              "      <td>TV</td>\n",
              "      <td>26.0</td>\n",
              "      <td>Manga</td>\n",
              "      <td>Madhouse</td>\n",
              "      <td>Shounen</td>\n",
              "      <td>1998</td>\n",
              "      <td>Victor Entertainment</td>\n",
              "      <td>Action, Adventure, Sci-Fi</td>\n",
              "      <td>Funimation</td>\n",
              "      <td>24</td>\n",
              "      <td>PG-13 - Teens 13 or older</td>\n",
              "      <td>8.0</td>\n",
              "      <td>341.0</td>\n",
              "      <td>252</td>\n",
              "      <td>763,023</td>\n",
              "      <td>16,009</td>\n",
              "      <td>https://cdn.myanimelist.net/images/anime/7/203...</td>\n",
              "      <td>Vash the Stampede is the man with a $$60,000,0...</td>\n",
              "    </tr>\n",
              "    <tr>\n",
              "      <th>3</th>\n",
              "      <td>7</td>\n",
              "      <td>Witch Hunter Robin</td>\n",
              "      <td>TV</td>\n",
              "      <td>26.0</td>\n",
              "      <td>Original</td>\n",
              "      <td>Sunrise</td>\n",
              "      <td>NaN</td>\n",
              "      <td>2002</td>\n",
              "      <td>Bandai Visual, Dentsu, Victor Entertainment, T...</td>\n",
              "      <td>Action, Drama, Mystery, Supernatural</td>\n",
              "      <td>Funimation, Bandai Entertainment</td>\n",
              "      <td>25</td>\n",
              "      <td>PG-13 - Teens 13 or older</td>\n",
              "      <td>7.0</td>\n",
              "      <td>3073.0</td>\n",
              "      <td>1857</td>\n",
              "      <td>116,691</td>\n",
              "      <td>648</td>\n",
              "      <td>https://cdn.myanimelist.net/images/anime/10/19...</td>\n",
              "      <td>Robin Sena is a powerful craft user drafted in...</td>\n",
              "    </tr>\n",
              "    <tr>\n",
              "      <th>4</th>\n",
              "      <td>8</td>\n",
              "      <td>Bouken Ou Beet</td>\n",
              "      <td>TV</td>\n",
              "      <td>52.0</td>\n",
              "      <td>Manga</td>\n",
              "      <td>Toei Animation</td>\n",
              "      <td>Shounen</td>\n",
              "      <td>2004</td>\n",
              "      <td>TV Tokyo, Dentsu</td>\n",
              "      <td>Action, Adventure, Fantasy</td>\n",
              "      <td>Illumitoon Entertainment</td>\n",
              "      <td>23</td>\n",
              "      <td>PG - Children</td>\n",
              "      <td>6.0</td>\n",
              "      <td>4542.0</td>\n",
              "      <td>5354</td>\n",
              "      <td>15,526</td>\n",
              "      <td>15</td>\n",
              "      <td>https://cdn.myanimelist.net/images/anime/7/215...</td>\n",
              "      <td>It is the dark century and the people are suff...</td>\n",
              "    </tr>\n",
              "  </tbody>\n",
              "</table>\n",
              "</div>\n",
              "    <div class=\"colab-df-buttons\">\n",
              "\n",
              "  <div class=\"colab-df-container\">\n",
              "    <button class=\"colab-df-convert\" onclick=\"convertToInteractive('df-60f00c24-5d1a-40a0-bc82-5d6c3a45cc47')\"\n",
              "            title=\"Convert this dataframe to an interactive table.\"\n",
              "            style=\"display:none;\">\n",
              "\n",
              "  <svg xmlns=\"http://www.w3.org/2000/svg\" height=\"24px\" viewBox=\"0 -960 960 960\">\n",
              "    <path d=\"M120-120v-720h720v720H120Zm60-500h600v-160H180v160Zm220 220h160v-160H400v160Zm0 220h160v-160H400v160ZM180-400h160v-160H180v160Zm440 0h160v-160H620v160ZM180-180h160v-160H180v160Zm440 0h160v-160H620v160Z\"/>\n",
              "  </svg>\n",
              "    </button>\n",
              "\n",
              "  <style>\n",
              "    .colab-df-container {\n",
              "      display:flex;\n",
              "      gap: 12px;\n",
              "    }\n",
              "\n",
              "    .colab-df-convert {\n",
              "      background-color: #E8F0FE;\n",
              "      border: none;\n",
              "      border-radius: 50%;\n",
              "      cursor: pointer;\n",
              "      display: none;\n",
              "      fill: #1967D2;\n",
              "      height: 32px;\n",
              "      padding: 0 0 0 0;\n",
              "      width: 32px;\n",
              "    }\n",
              "\n",
              "    .colab-df-convert:hover {\n",
              "      background-color: #E2EBFA;\n",
              "      box-shadow: 0px 1px 2px rgba(60, 64, 67, 0.3), 0px 1px 3px 1px rgba(60, 64, 67, 0.15);\n",
              "      fill: #174EA6;\n",
              "    }\n",
              "\n",
              "    .colab-df-buttons div {\n",
              "      margin-bottom: 4px;\n",
              "    }\n",
              "\n",
              "    [theme=dark] .colab-df-convert {\n",
              "      background-color: #3B4455;\n",
              "      fill: #D2E3FC;\n",
              "    }\n",
              "\n",
              "    [theme=dark] .colab-df-convert:hover {\n",
              "      background-color: #434B5C;\n",
              "      box-shadow: 0px 1px 3px 1px rgba(0, 0, 0, 0.15);\n",
              "      filter: drop-shadow(0px 1px 2px rgba(0, 0, 0, 0.3));\n",
              "      fill: #FFFFFF;\n",
              "    }\n",
              "  </style>\n",
              "\n",
              "    <script>\n",
              "      const buttonEl =\n",
              "        document.querySelector('#df-60f00c24-5d1a-40a0-bc82-5d6c3a45cc47 button.colab-df-convert');\n",
              "      buttonEl.style.display =\n",
              "        google.colab.kernel.accessAllowed ? 'block' : 'none';\n",
              "\n",
              "      async function convertToInteractive(key) {\n",
              "        const element = document.querySelector('#df-60f00c24-5d1a-40a0-bc82-5d6c3a45cc47');\n",
              "        const dataTable =\n",
              "          await google.colab.kernel.invokeFunction('convertToInteractive',\n",
              "                                                    [key], {});\n",
              "        if (!dataTable) return;\n",
              "\n",
              "        const docLinkHtml = 'Like what you see? Visit the ' +\n",
              "          '<a target=\"_blank\" href=https://colab.research.google.com/notebooks/data_table.ipynb>data table notebook</a>'\n",
              "          + ' to learn more about interactive tables.';\n",
              "        element.innerHTML = '';\n",
              "        dataTable['output_type'] = 'display_data';\n",
              "        await google.colab.output.renderOutput(dataTable, element);\n",
              "        const docLink = document.createElement('div');\n",
              "        docLink.innerHTML = docLinkHtml;\n",
              "        element.appendChild(docLink);\n",
              "      }\n",
              "    </script>\n",
              "  </div>\n",
              "\n",
              "\n",
              "<div id=\"df-823c1b1a-cb80-49d7-935a-ac2462ed755f\">\n",
              "  <button class=\"colab-df-quickchart\" onclick=\"quickchart('df-823c1b1a-cb80-49d7-935a-ac2462ed755f')\"\n",
              "            title=\"Suggest charts\"\n",
              "            style=\"display:none;\">\n",
              "\n",
              "<svg xmlns=\"http://www.w3.org/2000/svg\" height=\"24px\"viewBox=\"0 0 24 24\"\n",
              "     width=\"24px\">\n",
              "    <g>\n",
              "        <path d=\"M19 3H5c-1.1 0-2 .9-2 2v14c0 1.1.9 2 2 2h14c1.1 0 2-.9 2-2V5c0-1.1-.9-2-2-2zM9 17H7v-7h2v7zm4 0h-2V7h2v10zm4 0h-2v-4h2v4z\"/>\n",
              "    </g>\n",
              "</svg>\n",
              "  </button>\n",
              "\n",
              "<style>\n",
              "  .colab-df-quickchart {\n",
              "      --bg-color: #E8F0FE;\n",
              "      --fill-color: #1967D2;\n",
              "      --hover-bg-color: #E2EBFA;\n",
              "      --hover-fill-color: #174EA6;\n",
              "      --disabled-fill-color: #AAA;\n",
              "      --disabled-bg-color: #DDD;\n",
              "  }\n",
              "\n",
              "  [theme=dark] .colab-df-quickchart {\n",
              "      --bg-color: #3B4455;\n",
              "      --fill-color: #D2E3FC;\n",
              "      --hover-bg-color: #434B5C;\n",
              "      --hover-fill-color: #FFFFFF;\n",
              "      --disabled-bg-color: #3B4455;\n",
              "      --disabled-fill-color: #666;\n",
              "  }\n",
              "\n",
              "  .colab-df-quickchart {\n",
              "    background-color: var(--bg-color);\n",
              "    border: none;\n",
              "    border-radius: 50%;\n",
              "    cursor: pointer;\n",
              "    display: none;\n",
              "    fill: var(--fill-color);\n",
              "    height: 32px;\n",
              "    padding: 0;\n",
              "    width: 32px;\n",
              "  }\n",
              "\n",
              "  .colab-df-quickchart:hover {\n",
              "    background-color: var(--hover-bg-color);\n",
              "    box-shadow: 0 1px 2px rgba(60, 64, 67, 0.3), 0 1px 3px 1px rgba(60, 64, 67, 0.15);\n",
              "    fill: var(--button-hover-fill-color);\n",
              "  }\n",
              "\n",
              "  .colab-df-quickchart-complete:disabled,\n",
              "  .colab-df-quickchart-complete:disabled:hover {\n",
              "    background-color: var(--disabled-bg-color);\n",
              "    fill: var(--disabled-fill-color);\n",
              "    box-shadow: none;\n",
              "  }\n",
              "\n",
              "  .colab-df-spinner {\n",
              "    border: 2px solid var(--fill-color);\n",
              "    border-color: transparent;\n",
              "    border-bottom-color: var(--fill-color);\n",
              "    animation:\n",
              "      spin 1s steps(1) infinite;\n",
              "  }\n",
              "\n",
              "  @keyframes spin {\n",
              "    0% {\n",
              "      border-color: transparent;\n",
              "      border-bottom-color: var(--fill-color);\n",
              "      border-left-color: var(--fill-color);\n",
              "    }\n",
              "    20% {\n",
              "      border-color: transparent;\n",
              "      border-left-color: var(--fill-color);\n",
              "      border-top-color: var(--fill-color);\n",
              "    }\n",
              "    30% {\n",
              "      border-color: transparent;\n",
              "      border-left-color: var(--fill-color);\n",
              "      border-top-color: var(--fill-color);\n",
              "      border-right-color: var(--fill-color);\n",
              "    }\n",
              "    40% {\n",
              "      border-color: transparent;\n",
              "      border-right-color: var(--fill-color);\n",
              "      border-top-color: var(--fill-color);\n",
              "    }\n",
              "    60% {\n",
              "      border-color: transparent;\n",
              "      border-right-color: var(--fill-color);\n",
              "    }\n",
              "    80% {\n",
              "      border-color: transparent;\n",
              "      border-right-color: var(--fill-color);\n",
              "      border-bottom-color: var(--fill-color);\n",
              "    }\n",
              "    90% {\n",
              "      border-color: transparent;\n",
              "      border-bottom-color: var(--fill-color);\n",
              "    }\n",
              "  }\n",
              "</style>\n",
              "\n",
              "  <script>\n",
              "    async function quickchart(key) {\n",
              "      const quickchartButtonEl =\n",
              "        document.querySelector('#' + key + ' button');\n",
              "      quickchartButtonEl.disabled = true;  // To prevent multiple clicks.\n",
              "      quickchartButtonEl.classList.add('colab-df-spinner');\n",
              "      try {\n",
              "        const charts = await google.colab.kernel.invokeFunction(\n",
              "            'suggestCharts', [key], {});\n",
              "      } catch (error) {\n",
              "        console.error('Error during call to suggestCharts:', error);\n",
              "      }\n",
              "      quickchartButtonEl.classList.remove('colab-df-spinner');\n",
              "      quickchartButtonEl.classList.add('colab-df-quickchart-complete');\n",
              "    }\n",
              "    (() => {\n",
              "      let quickchartButtonEl =\n",
              "        document.querySelector('#df-823c1b1a-cb80-49d7-935a-ac2462ed755f button');\n",
              "      quickchartButtonEl.style.display =\n",
              "        google.colab.kernel.accessAllowed ? 'block' : 'none';\n",
              "    })();\n",
              "  </script>\n",
              "</div>\n",
              "    </div>\n",
              "  </div>\n"
            ],
            "text/plain": [
              "   ID                            Title   Type  Episodes    Source  \\\n",
              "0   1                     Cowboy Bebop     TV      26.0  Original   \n",
              "1   5  Cowboy Bebop: Tengoku no Tobira  Movie       1.0  Original   \n",
              "2   6                           Trigun     TV      26.0     Manga   \n",
              "3   7               Witch Hunter Robin     TV      26.0  Original   \n",
              "4   8                   Bouken Ou Beet     TV      52.0     Manga   \n",
              "\n",
              "          Studios Demographic  Year  \\\n",
              "0         Sunrise         NaN  1998   \n",
              "1           Bones         NaN  2001   \n",
              "2        Madhouse     Shounen  1998   \n",
              "3         Sunrise         NaN  2002   \n",
              "4  Toei Animation     Shounen  2004   \n",
              "\n",
              "                                           Producers  \\\n",
              "0                                      Bandai Visual   \n",
              "1                             Sunrise, Bandai Visual   \n",
              "2                               Victor Entertainment   \n",
              "3  Bandai Visual, Dentsu, Victor Entertainment, T...   \n",
              "4                                   TV Tokyo, Dentsu   \n",
              "\n",
              "                                 Genres  \\\n",
              "0         Action, Award Winning, Sci-Fi   \n",
              "1                        Action, Sci-Fi   \n",
              "2             Action, Adventure, Sci-Fi   \n",
              "3  Action, Drama, Mystery, Supernatural   \n",
              "4            Action, Adventure, Fantasy   \n",
              "\n",
              "                                 Licensors  Duration  \\\n",
              "0                               Funimation        24   \n",
              "1  Sony Pictures Entertainment, Funimation         1   \n",
              "2                               Funimation        24   \n",
              "3         Funimation, Bandai Entertainment        25   \n",
              "4                 Illumitoon Entertainment        23   \n",
              "\n",
              "                           Rating  Score  Ranked  Popularity    Members  \\\n",
              "0  R - 17+ (violence & profanity)    8.0    46.0          43  1,864,022   \n",
              "1  R - 17+ (violence & profanity)    8.0   193.0         619    377,963   \n",
              "2       PG-13 - Teens 13 or older    8.0   341.0         252    763,023   \n",
              "3       PG-13 - Teens 13 or older    7.0  3073.0        1857    116,691   \n",
              "4                   PG - Children    6.0  4542.0        5354     15,526   \n",
              "\n",
              "  Favorites                                          Image_URL  \\\n",
              "0    82,369  https://cdn.myanimelist.net/images/anime/4/196...   \n",
              "1     1,581  https://cdn.myanimelist.net/images/anime/1439/...   \n",
              "2    16,009  https://cdn.myanimelist.net/images/anime/7/203...   \n",
              "3       648  https://cdn.myanimelist.net/images/anime/10/19...   \n",
              "4        15  https://cdn.myanimelist.net/images/anime/7/215...   \n",
              "\n",
              "                                            Synopsis  \n",
              "0  Crime is timeless. By the year 2071, humanity ...  \n",
              "1  Another day, another bounty—such is the life o...  \n",
              "2  Vash the Stampede is the man with a $$60,000,0...  \n",
              "3  Robin Sena is a powerful craft user drafted in...  \n",
              "4  It is the dark century and the people are suff...  "
            ]
          },
          "execution_count": 45,
          "metadata": {},
          "output_type": "execute_result"
        }
      ],
      "source": [
        "df.head()"
      ]
    },
    {
      "cell_type": "code",
      "execution_count": null,
      "metadata": {
        "colab": {
          "base_uri": "https://localhost:8080/"
        },
        "id": "Ircm8qZ0_mw5",
        "outputId": "d8850c05-d952-4086-ab04-9cd5e99340b4"
      },
      "outputs": [
        {
          "data": {
            "text/plain": [
              "ID              0.000000\n",
              "Title           0.000000\n",
              "Type            9.176060\n",
              "Episodes        0.547706\n",
              "Source          0.000000\n",
              "Studios         0.000000\n",
              "Demographic    66.796317\n",
              "Year            0.000000\n",
              "Producers       0.000000\n",
              "Genres         10.501667\n",
              "Licensors      68.566439\n",
              "Duration        0.000000\n",
              "Rating          1.270043\n",
              "Score           0.000000\n",
              "Ranked         18.280679\n",
              "Popularity      0.000000\n",
              "Members         0.000000\n",
              "Favorites       0.000000\n",
              "Image_URL       0.000000\n",
              "Synopsis        0.023813\n",
              "dtype: float64"
            ]
          },
          "execution_count": 46,
          "metadata": {},
          "output_type": "execute_result"
        }
      ],
      "source": [
        "# Comprobamos columnas con valores faltantes\n",
        "df.isna().mean()*100"
      ]
    },
    {
      "cell_type": "code",
      "execution_count": null,
      "metadata": {
        "id": "DDrUeDvhFWer"
      },
      "outputs": [],
      "source": [
        "# Eliminar las columnas con mayor número de valores faltantes y las IDs además eliminamos Studios y Producers ya que tienen muchos 'add some' (posible error al scrapear)\n",
        "df.drop(['ID', 'Demographic', 'Licensors', 'Studios', 'Producers'], axis=1, inplace=True)"
      ]
    },
    {
      "cell_type": "code",
      "execution_count": null,
      "metadata": {
        "colab": {
          "base_uri": "https://localhost:8080/"
        },
        "id": "--1kJNhCF4zG",
        "outputId": "d8d496cf-799e-42e3-f950-76f196a62684"
      },
      "outputs": [
        {
          "data": {
            "text/plain": [
              "3056"
            ]
          },
          "execution_count": 48,
          "metadata": {},
          "output_type": "execute_result"
        }
      ],
      "source": [
        "# Comprobamos cuantas filas con valores faltantes obtenemos\n",
        "sum(df.isna().any(axis=1))"
      ]
    },
    {
      "cell_type": "code",
      "execution_count": null,
      "metadata": {
        "id": "aAQk5u2_GZiV"
      },
      "outputs": [],
      "source": [
        "# Procedemos a eliminarlas\n",
        "df.dropna(axis=0, inplace=True)"
      ]
    },
    {
      "cell_type": "code",
      "execution_count": null,
      "metadata": {
        "colab": {
          "base_uri": "https://localhost:8080/"
        },
        "id": "5e1DhyOcGzbw",
        "outputId": "0389a595-3cb2-4ebd-8939-877f1bf59ed5"
      },
      "outputs": [
        {
          "data": {
            "text/plain": [
              "(9542, 15)"
            ]
          },
          "execution_count": 50,
          "metadata": {},
          "output_type": "execute_result"
        }
      ],
      "source": [
        "df.shape"
      ]
    },
    {
      "cell_type": "markdown",
      "metadata": {
        "id": "uY4MBVcMln25"
      },
      "source": [
        "## Transformación de Datos:\n",
        "\n",
        "- Se convierten las columnas Episodes, Score y Ranked a enteros.\n",
        "- Se eliminan las comas de las columnas Members y Favorites y se convierten a enteros.\n",
        "- Se aplican LabelEncoder a las columnas categóricas Type, Source, y Rating.\n",
        "- Se codifican los géneros utilizando one-hot encoding y se combinan con el DataFrame original."
      ]
    },
    {
      "cell_type": "code",
      "execution_count": null,
      "metadata": {
        "id": "UMsDjvAFHJR3"
      },
      "outputs": [],
      "source": [
        "# Convertimos a enteros los float\n",
        "df.Episodes = df.Episodes.astype(int)\n",
        "df.Score = df.Score.astype(int)\n",
        "df.Ranked = df.Ranked.astype(int)"
      ]
    },
    {
      "cell_type": "code",
      "execution_count": null,
      "metadata": {
        "id": "EKwr3XLgHio2"
      },
      "outputs": [],
      "source": [
        "# Reemplazamos la coma por nada y convertimos a enteros\n",
        "df.Members = df.Members.str.replace(',','').astype(int)\n",
        "df.Favorites = df.Favorites.str.replace(',','').astype(int)"
      ]
    },
    {
      "cell_type": "code",
      "execution_count": null,
      "metadata": {
        "id": "YakkqFR9IkCD"
      },
      "outputs": [],
      "source": [
        "# Aplicamos Label Encoder\n",
        "cols = ['Type', 'Source', 'Rating']\n",
        "le = LabelEncoder()\n",
        "for col in cols:\n",
        "  df[col] = le.fit_transform(df[col])"
      ]
    },
    {
      "cell_type": "code",
      "execution_count": null,
      "metadata": {
        "id": "gYDhRAGGJHUW"
      },
      "outputs": [],
      "source": [
        "# Codificamos los géneros con 1-hot encoding\n",
        "df_genres = df.Genres.str.get_dummies(sep=',')"
      ]
    },
    {
      "cell_type": "code",
      "execution_count": null,
      "metadata": {
        "id": "4Y-kpcQzJibw"
      },
      "outputs": [],
      "source": [
        "# Unimos los géneros codificados al df\n",
        "df_num = pd.concat([df.drop('Genres', axis=1), df_genres], axis=1)"
      ]
    },
    {
      "cell_type": "code",
      "execution_count": null,
      "metadata": {
        "id": "EXsFB-geM_Lj"
      },
      "outputs": [],
      "source": [
        "# Filtramos de modo que nos quedamos con aquellas series que tienen sinopsis ya que la usaremos para medir la similitud\n",
        "df_num = df_num[~df_num['Synopsis'].str.contains('No synopsis information')]"
      ]
    },
    {
      "cell_type": "markdown",
      "metadata": {
        "id": "OC_YkSQPlzMN"
      },
      "source": [
        "## Preprocesamiento de Texto:\n",
        "\n",
        "- Se filtran las series que tienen sinopsis, eliminando aquellas sin información.\n",
        "- Se preprocesa el texto de las sinopsis eliminando caracteres no alfabéticos y espacios adicionales.\n",
        "- Se convierte el texto en vectores TF-IDF."
      ]
    },
    {
      "cell_type": "code",
      "execution_count": null,
      "metadata": {
        "id": "2BQdJx8fKnLG"
      },
      "outputs": [],
      "source": [
        "# Preprocesamos el texto\n",
        "def preprocess_text(text):\n",
        "  # Dejamos palabras\n",
        "  text = ' '.join(re.findall(r'\\b[a-zA-Z]+\\b', text))\n",
        "  # Eliminación de los espacios adicionales\n",
        "  text = re.sub(r'\\s+', ' ', text).strip()\n",
        "  return text.lower()\n",
        "df_num['Synopsis'] = df_num['Synopsis'].apply(preprocess_text)"
      ]
    },
    {
      "cell_type": "code",
      "execution_count": null,
      "metadata": {
        "id": "N_rFH80bJr1w"
      },
      "outputs": [],
      "source": [
        "# Codificamos el texto a formato numérico con tfidf\n",
        "vectorizer = TfidfVectorizer(stop_words='english', max_df=0.8, min_df=0.001)\n",
        "X_tfidf = vectorizer.fit_transform(df_num['Synopsis'])"
      ]
    },
    {
      "cell_type": "markdown",
      "metadata": {
        "id": "TlbmlfrFl_bd"
      },
      "source": [
        "## Escalado y Combinación de Datos:\n",
        "\n",
        "- Se escalan las características numéricas.\n",
        "- Se combinan los datos escalados con los vectores TF-IDF."
      ]
    },
    {
      "cell_type": "code",
      "execution_count": null,
      "metadata": {
        "id": "DblxoifhPIo7"
      },
      "outputs": [],
      "source": [
        "# Seleccionar las numéricas del df y escalarlas\n",
        "X_num = df_num.drop(['Title', 'Image_URL', 'Synopsis'], axis=1)\n",
        "X_num_sc = MinMaxScaler().fit_transform(X_num)"
      ]
    },
    {
      "cell_type": "code",
      "execution_count": null,
      "metadata": {
        "colab": {
          "base_uri": "https://localhost:8080/"
        },
        "id": "7qbVS6z4QUXf",
        "outputId": "e67e3fe6-d4be-4bee-dec6-3991a6f44934"
      },
      "outputs": [
        {
          "data": {
            "text/plain": [
              "(9062, 5373)"
            ]
          },
          "execution_count": 60,
          "metadata": {},
          "output_type": "execute_result"
        }
      ],
      "source": [
        "# Unir horizontalmente la matriz de tfidf y de los datos escalados\n",
        "X = np.hstack((X_num_sc, X_tfidf.toarray()))\n",
        "X.shape"
      ]
    },
    {
      "cell_type": "code",
      "execution_count": null,
      "metadata": {
        "colab": {
          "base_uri": "https://localhost:8080/",
          "height": 75
        },
        "id": "9t0cVje4OvMO",
        "outputId": "3a468872-6435-4068-ccf2-b3c482a92aca"
      },
      "outputs": [
        {
          "data": {
            "text/html": [
              "<style>#sk-container-id-4 {color: black;background-color: white;}#sk-container-id-4 pre{padding: 0;}#sk-container-id-4 div.sk-toggleable {background-color: white;}#sk-container-id-4 label.sk-toggleable__label {cursor: pointer;display: block;width: 100%;margin-bottom: 0;padding: 0.3em;box-sizing: border-box;text-align: center;}#sk-container-id-4 label.sk-toggleable__label-arrow:before {content: \"▸\";float: left;margin-right: 0.25em;color: #696969;}#sk-container-id-4 label.sk-toggleable__label-arrow:hover:before {color: black;}#sk-container-id-4 div.sk-estimator:hover label.sk-toggleable__label-arrow:before {color: black;}#sk-container-id-4 div.sk-toggleable__content {max-height: 0;max-width: 0;overflow: hidden;text-align: left;background-color: #f0f8ff;}#sk-container-id-4 div.sk-toggleable__content pre {margin: 0.2em;color: black;border-radius: 0.25em;background-color: #f0f8ff;}#sk-container-id-4 input.sk-toggleable__control:checked~div.sk-toggleable__content {max-height: 200px;max-width: 100%;overflow: auto;}#sk-container-id-4 input.sk-toggleable__control:checked~label.sk-toggleable__label-arrow:before {content: \"▾\";}#sk-container-id-4 div.sk-estimator input.sk-toggleable__control:checked~label.sk-toggleable__label {background-color: #d4ebff;}#sk-container-id-4 div.sk-label input.sk-toggleable__control:checked~label.sk-toggleable__label {background-color: #d4ebff;}#sk-container-id-4 input.sk-hidden--visually {border: 0;clip: rect(1px 1px 1px 1px);clip: rect(1px, 1px, 1px, 1px);height: 1px;margin: -1px;overflow: hidden;padding: 0;position: absolute;width: 1px;}#sk-container-id-4 div.sk-estimator {font-family: monospace;background-color: #f0f8ff;border: 1px dotted black;border-radius: 0.25em;box-sizing: border-box;margin-bottom: 0.5em;}#sk-container-id-4 div.sk-estimator:hover {background-color: #d4ebff;}#sk-container-id-4 div.sk-parallel-item::after {content: \"\";width: 100%;border-bottom: 1px solid gray;flex-grow: 1;}#sk-container-id-4 div.sk-label:hover label.sk-toggleable__label {background-color: #d4ebff;}#sk-container-id-4 div.sk-serial::before {content: \"\";position: absolute;border-left: 1px solid gray;box-sizing: border-box;top: 0;bottom: 0;left: 50%;z-index: 0;}#sk-container-id-4 div.sk-serial {display: flex;flex-direction: column;align-items: center;background-color: white;padding-right: 0.2em;padding-left: 0.2em;position: relative;}#sk-container-id-4 div.sk-item {position: relative;z-index: 1;}#sk-container-id-4 div.sk-parallel {display: flex;align-items: stretch;justify-content: center;background-color: white;position: relative;}#sk-container-id-4 div.sk-item::before, #sk-container-id-4 div.sk-parallel-item::before {content: \"\";position: absolute;border-left: 1px solid gray;box-sizing: border-box;top: 0;bottom: 0;left: 50%;z-index: -1;}#sk-container-id-4 div.sk-parallel-item {display: flex;flex-direction: column;z-index: 1;position: relative;background-color: white;}#sk-container-id-4 div.sk-parallel-item:first-child::after {align-self: flex-end;width: 50%;}#sk-container-id-4 div.sk-parallel-item:last-child::after {align-self: flex-start;width: 50%;}#sk-container-id-4 div.sk-parallel-item:only-child::after {width: 0;}#sk-container-id-4 div.sk-dashed-wrapped {border: 1px dashed gray;margin: 0 0.4em 0.5em 0.4em;box-sizing: border-box;padding-bottom: 0.4em;background-color: white;}#sk-container-id-4 div.sk-label label {font-family: monospace;font-weight: bold;display: inline-block;line-height: 1.2em;}#sk-container-id-4 div.sk-label-container {text-align: center;}#sk-container-id-4 div.sk-container {/* jupyter's `normalize.less` sets `[hidden] { display: none; }` but bootstrap.min.css set `[hidden] { display: none !important; }` so we also need the `!important` here to be able to override the default hidden behavior on the sphinx rendered scikit-learn.org. See: https://github.com/scikit-learn/scikit-learn/issues/21755 */display: inline-block !important;position: relative;}#sk-container-id-4 div.sk-text-repr-fallback {display: none;}</style><div id=\"sk-container-id-4\" class=\"sk-top-container\"><div class=\"sk-text-repr-fallback\"><pre>CountVectorizer()</pre><b>In a Jupyter environment, please rerun this cell to show the HTML representation or trust the notebook. <br />On GitHub, the HTML representation is unable to render, please try loading this page with nbviewer.org.</b></div><div class=\"sk-container\" hidden><div class=\"sk-item\"><div class=\"sk-estimator sk-toggleable\"><input class=\"sk-toggleable__control sk-hidden--visually\" id=\"sk-estimator-id-4\" type=\"checkbox\" checked><label for=\"sk-estimator-id-4\" class=\"sk-toggleable__label sk-toggleable__label-arrow\">CountVectorizer</label><div class=\"sk-toggleable__content\"><pre>CountVectorizer()</pre></div></div></div></div></div>"
            ],
            "text/plain": [
              "CountVectorizer()"
            ]
          },
          "execution_count": 61,
          "metadata": {},
          "output_type": "execute_result"
        }
      ],
      "source": [
        "from sklearn.feature_extraction.text import CountVectorizer\n",
        "# Crear un vectorizador CountVectorizer\n",
        "count_vectorizer = CountVectorizer()\n",
        "\n",
        "# Entrenar el vectorizador con los títulos de los animes\n",
        "count_vectorizer.fit(df_num['Title'])"
      ]
    },
    {
      "cell_type": "markdown",
      "metadata": {
        "id": "-9gjw4P2mJoG"
      },
      "source": [
        "## Entrenamiento del Modelo de Recomendación:\n",
        "\n",
        "- Se entrena un modelo KNN utilizando la métrica de distancia coseno."
      ]
    },
    {
      "cell_type": "code",
      "execution_count": null,
      "metadata": {
        "id": "mtTR_8d6O4Df"
      },
      "outputs": [],
      "source": [
        "# Entrenamos un modelo KNN para obtener las distancias entre series\n",
        "model = NearestNeighbors(n_neighbors = 6, algorithm = \"brute\", metric = \"cosine\").fit(X)"
      ]
    },
    {
      "cell_type": "code",
      "execution_count": null,
      "metadata": {
        "colab": {
          "base_uri": "https://localhost:8080/"
        },
        "id": "VhLET9UQO6Ff",
        "outputId": "e81ee8bf-52b9-4f2a-e60f-a5390e7775ee"
      },
      "outputs": [
        {
          "data": {
            "text/plain": [
              "['/content/drive/MyDrive/dataset/tfm/vectorizer.pkl']"
            ]
          },
          "execution_count": 62,
          "metadata": {},
          "output_type": "execute_result"
        }
      ],
      "source": [
        "# Guardar el modelo KNN y el vectorizador TF-IDF en archivos utilizando joblib\n",
        "joblib.dump(count_vectorizer, '/content/drive/MyDrive/dataset/tfm/vectorizer2.pkl')\n",
        "joblib.dump(model, '/content/drive/MyDrive/dataset/tfm/modelo_knn2.pkl')"
      ]
    },
    {
      "cell_type": "code",
      "execution_count": null,
      "metadata": {
        "id": "kkUEysE1TnVR"
      },
      "outputs": [],
      "source": [
        "# Reseteamos el indice\n",
        "df_num.reset_index(inplace=True)"
      ]
    },
    {
      "cell_type": "markdown",
      "metadata": {
        "id": "I30f3AaymOp6"
      },
      "source": [
        "## Funciones de Recomendación:\n",
        "\n",
        "- Se define una función para obtener recomendaciones basadas en la similitud de títulos y sinopsis."
      ]
    },
    {
      "cell_type": "code",
      "execution_count": null,
      "metadata": {
        "colab": {
          "base_uri": "https://localhost:8080/"
        },
        "id": "2yM_2RxqSbI1",
        "outputId": "bd37f362-b054-472d-90cd-9c77c81f4374"
      },
      "outputs": [
        {
          "data": {
            "text/plain": [
              "[('Code Geass: Hangyaku no Lelouch R2', 0.18510794749933235),\n",
              " ('Code Geass: Hangyaku no Lelouch', 0.18610596407991742),\n",
              " ('Tengen Toppa Gurren Lagann', 0.18752404802119038),\n",
              " ('Koukaku Kidoutai: Stand Alone Complex', 0.21540994086582532),\n",
              " ('Macross F', 0.22484044811496062)]"
            ]
          },
          "execution_count": 65,
          "metadata": {},
          "output_type": "execute_result"
        }
      ],
      "source": [
        "# Función de recomendación de series\n",
        "def get_anime_recommendations(title):\n",
        "    movie_index = df_num[df_num[\"Title\"] == title].index[0]\n",
        "    distances, indices = model.kneighbors(np.array([X[movie_index]]))\n",
        "    similar_movies = [(df_num[\"Title\"][i], distances[0][j]) for j, i in enumerate(indices[0])]\n",
        "    return similar_movies[1:]\n",
        "get_anime_recommendations('Cowboy Bebop')"
      ]
    },
    {
      "cell_type": "code",
      "execution_count": null,
      "metadata": {
        "colab": {
          "base_uri": "https://localhost:8080/"
        },
        "id": "VZxkyK3ZL77d",
        "outputId": "08e83415-79d8-4fae-cff2-2a8a9a511176"
      },
      "outputs": [
        {
          "name": "stdout",
          "output_type": "stream",
          "text": [
            "<class 'pandas.core.frame.DataFrame'>\n",
            "RangeIndex: 9062 entries, 0 to 9061\n",
            "Data columns (total 52 columns):\n",
            " #   Column          Non-Null Count  Dtype \n",
            "---  ------          --------------  ----- \n",
            " 0   index           9062 non-null   int64 \n",
            " 1   Title           9062 non-null   object\n",
            " 2   Type            9062 non-null   int64 \n",
            " 3   Episodes        9062 non-null   int64 \n",
            " 4   Source          9062 non-null   int64 \n",
            " 5   Year            9062 non-null   int64 \n",
            " 6   Duration        9062 non-null   int64 \n",
            " 7   Rating          9062 non-null   int64 \n",
            " 8   Score           9062 non-null   int64 \n",
            " 9   Ranked          9062 non-null   int64 \n",
            " 10  Popularity      9062 non-null   int64 \n",
            " 11  Members         9062 non-null   int64 \n",
            " 12  Favorites       9062 non-null   int64 \n",
            " 13  Image_URL       9062 non-null   object\n",
            " 14  Synopsis        9062 non-null   object\n",
            " 15   Adventure      9062 non-null   int64 \n",
            " 16   Avant Garde    9062 non-null   int64 \n",
            " 17   Award Winning  9062 non-null   int64 \n",
            " 18   Boys Love      9062 non-null   int64 \n",
            " 19   Comedy         9062 non-null   int64 \n",
            " 20   Drama          9062 non-null   int64 \n",
            " 21   Ecchi          9062 non-null   int64 \n",
            " 22   Fantasy        9062 non-null   int64 \n",
            " 23   Girls Love     9062 non-null   int64 \n",
            " 24   Gourmet        9062 non-null   int64 \n",
            " 25   Horror         9062 non-null   int64 \n",
            " 26   Mystery        9062 non-null   int64 \n",
            " 27   Romance        9062 non-null   int64 \n",
            " 28   Sci-Fi         9062 non-null   int64 \n",
            " 29   Slice of Life  9062 non-null   int64 \n",
            " 30   Sports         9062 non-null   int64 \n",
            " 31   Supernatural   9062 non-null   int64 \n",
            " 32   Suspense       9062 non-null   int64 \n",
            " 33  Action          9062 non-null   int64 \n",
            " 34  Adventure       9062 non-null   int64 \n",
            " 35  Avant Garde     9062 non-null   int64 \n",
            " 36  Award Winning   9062 non-null   int64 \n",
            " 37  Boys Love       9062 non-null   int64 \n",
            " 38  Comedy          9062 non-null   int64 \n",
            " 39  Drama           9062 non-null   int64 \n",
            " 40  Ecchi           9062 non-null   int64 \n",
            " 41  Fantasy         9062 non-null   int64 \n",
            " 42  Girls Love      9062 non-null   int64 \n",
            " 43  Gourmet         9062 non-null   int64 \n",
            " 44  Horror          9062 non-null   int64 \n",
            " 45  Mystery         9062 non-null   int64 \n",
            " 46  Romance         9062 non-null   int64 \n",
            " 47  Sci-Fi          9062 non-null   int64 \n",
            " 48  Slice of Life   9062 non-null   int64 \n",
            " 49  Sports          9062 non-null   int64 \n",
            " 50  Supernatural    9062 non-null   int64 \n",
            " 51  Suspense        9062 non-null   int64 \n",
            "dtypes: int64(49), object(3)\n",
            "memory usage: 3.6+ MB\n"
          ]
        }
      ],
      "source": [
        "df_num.info()"
      ]
    }
  ],
  "metadata": {
    "colab": {
      "provenance": []
    },
    "kernelspec": {
      "display_name": "Python 3",
      "name": "python3"
    },
    "language_info": {
      "name": "python",
      "version": "3.12.4"
    }
  },
  "nbformat": 4,
  "nbformat_minor": 0
}
